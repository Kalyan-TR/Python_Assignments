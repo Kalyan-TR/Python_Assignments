{
 "cells": [
  {
   "cell_type": "code",
   "execution_count": 3,
   "id": "04c78468",
   "metadata": {},
   "outputs": [],
   "source": [
    "spam = [2, 4, 6, 8, 10] "
   ]
  },
  {
   "cell_type": "code",
   "execution_count": 5,
   "id": "8e0c7870",
   "metadata": {},
   "outputs": [
    {
     "data": {
      "text/plain": [
       "[2, 4, 6, 8, 10]"
      ]
     },
     "execution_count": 5,
     "metadata": {},
     "output_type": "execute_result"
    }
   ],
   "source": [
    "spam"
   ]
  },
  {
   "cell_type": "code",
   "execution_count": 6,
   "id": "ba9ade19",
   "metadata": {},
   "outputs": [],
   "source": [
    "spam[2] = \"hello\""
   ]
  },
  {
   "cell_type": "code",
   "execution_count": 7,
   "id": "3d630461",
   "metadata": {},
   "outputs": [
    {
     "data": {
      "text/plain": [
       "[2, 4, 'hello', 8, 10]"
      ]
     },
     "execution_count": 7,
     "metadata": {},
     "output_type": "execute_result"
    }
   ],
   "source": [
    "spam"
   ]
  },
  {
   "cell_type": "code",
   "execution_count": 8,
   "id": "fd85114b",
   "metadata": {},
   "outputs": [],
   "source": [
    "spam = ['a', 'b', 'c', 'd'] "
   ]
  },
  {
   "cell_type": "code",
   "execution_count": 9,
   "id": "a4111547",
   "metadata": {},
   "outputs": [
    {
     "data": {
      "text/plain": [
       "'d'"
      ]
     },
     "execution_count": 9,
     "metadata": {},
     "output_type": "execute_result"
    }
   ],
   "source": [
    "spam[int(int('3' * 2) / 11)]"
   ]
  },
  {
   "cell_type": "code",
   "execution_count": 10,
   "id": "d46f2736",
   "metadata": {},
   "outputs": [
    {
     "data": {
      "text/plain": [
       "'d'"
      ]
     },
     "execution_count": 10,
     "metadata": {},
     "output_type": "execute_result"
    }
   ],
   "source": [
    "spam[-1]"
   ]
  },
  {
   "cell_type": "code",
   "execution_count": 11,
   "id": "5c8499c1",
   "metadata": {},
   "outputs": [
    {
     "data": {
      "text/plain": [
       "['a', 'b']"
      ]
     },
     "execution_count": 11,
     "metadata": {},
     "output_type": "execute_result"
    }
   ],
   "source": [
    "spam[:2]"
   ]
  },
  {
   "cell_type": "code",
   "execution_count": 15,
   "id": "05bdd137",
   "metadata": {},
   "outputs": [],
   "source": [
    "bacon = [3.14, 'cat', 11, 'cat', True] "
   ]
  },
  {
   "cell_type": "code",
   "execution_count": 16,
   "id": "0e44fe67",
   "metadata": {},
   "outputs": [
    {
     "data": {
      "text/plain": [
       "1"
      ]
     },
     "execution_count": 16,
     "metadata": {},
     "output_type": "execute_result"
    }
   ],
   "source": [
    "bacon.index('cat')"
   ]
  },
  {
   "cell_type": "code",
   "execution_count": 17,
   "id": "efffe607",
   "metadata": {},
   "outputs": [],
   "source": [
    "bacon.append(99) "
   ]
  },
  {
   "cell_type": "code",
   "execution_count": 18,
   "id": "f4f5cd72",
   "metadata": {},
   "outputs": [
    {
     "data": {
      "text/plain": [
       "[3.14, 'cat', 11, 'cat', True, 99]"
      ]
     },
     "execution_count": 18,
     "metadata": {},
     "output_type": "execute_result"
    }
   ],
   "source": [
    "bacon"
   ]
  },
  {
   "cell_type": "code",
   "execution_count": 19,
   "id": "199c642f",
   "metadata": {},
   "outputs": [],
   "source": [
    "bacon.remove('cat') "
   ]
  },
  {
   "cell_type": "code",
   "execution_count": 20,
   "id": "d0886036",
   "metadata": {},
   "outputs": [
    {
     "data": {
      "text/plain": [
       "[3.14, 11, 'cat', True, 99]"
      ]
     },
     "execution_count": 20,
     "metadata": {},
     "output_type": "execute_result"
    }
   ],
   "source": [
    "bacon"
   ]
  },
  {
   "cell_type": "code",
   "execution_count": 22,
   "id": "a14dee97",
   "metadata": {},
   "outputs": [],
   "source": [
    "# two methods for removing items from a list\n",
    "list = [\"apple\", \"banana\", \"cherry\"]\n",
    "list.remove(\"apple\")"
   ]
  },
  {
   "cell_type": "code",
   "execution_count": 23,
   "id": "59098c5d",
   "metadata": {},
   "outputs": [
    {
     "data": {
      "text/plain": [
       "['banana', 'cherry']"
      ]
     },
     "execution_count": 23,
     "metadata": {},
     "output_type": "execute_result"
    }
   ],
   "source": [
    "list"
   ]
  },
  {
   "cell_type": "code",
   "execution_count": 24,
   "id": "012adab8",
   "metadata": {},
   "outputs": [
    {
     "data": {
      "text/plain": [
       "'cherry'"
      ]
     },
     "execution_count": 24,
     "metadata": {},
     "output_type": "execute_result"
    }
   ],
   "source": [
    "list.pop(1)"
   ]
  },
  {
   "cell_type": "code",
   "execution_count": 25,
   "id": "fb948feb",
   "metadata": {},
   "outputs": [
    {
     "data": {
      "text/plain": [
       "['banana']"
      ]
     },
     "execution_count": 25,
     "metadata": {},
     "output_type": "execute_result"
    }
   ],
   "source": [
    "list"
   ]
  },
  {
   "cell_type": "code",
   "execution_count": 28,
   "id": "9ed1887f",
   "metadata": {},
   "outputs": [],
   "source": [
    "T = (42,)"
   ]
  },
  {
   "cell_type": "code",
   "execution_count": 29,
   "id": "127c2798",
   "metadata": {},
   "outputs": [
    {
     "data": {
      "text/plain": [
       "tuple"
      ]
     },
     "execution_count": 29,
     "metadata": {},
     "output_type": "execute_result"
    }
   ],
   "source": [
    "type(T)"
   ]
  },
  {
   "cell_type": "code",
   "execution_count": 31,
   "id": "c3b32138",
   "metadata": {},
   "outputs": [
    {
     "name": "stdout",
     "output_type": "stream",
     "text": [
      "<class 'list'>\n",
      "<class 'tuple'>\n"
     ]
    }
   ],
   "source": [
    "# get a list value's tuple form \n",
    "l = [32,45,\"kalyan\"]\n",
    "print(type(l))\n",
    "tup = tuple(l)\n",
    "print(type(tup))"
   ]
  },
  {
   "cell_type": "code",
   "execution_count": 33,
   "id": "435ecf56",
   "metadata": {},
   "outputs": [
    {
     "name": "stdout",
     "output_type": "stream",
     "text": [
      "<class 'tuple'>\n"
     ]
    },
    {
     "ename": "TypeError",
     "evalue": "'list' object is not callable",
     "output_type": "error",
     "traceback": [
      "\u001b[1;31m---------------------------------------------------------------------------\u001b[0m",
      "\u001b[1;31mTypeError\u001b[0m                                 Traceback (most recent call last)",
      "\u001b[1;32m<ipython-input-33-b8a2680aee60>\u001b[0m in \u001b[0;36m<module>\u001b[1;34m\u001b[0m\n\u001b[0;32m      2\u001b[0m \u001b[0mtup\u001b[0m \u001b[1;33m=\u001b[0m \u001b[1;33m(\u001b[0m\u001b[1;36m43\u001b[0m\u001b[1;33m,\u001b[0m\u001b[1;36m32\u001b[0m\u001b[1;33m,\u001b[0m\u001b[1;34m\"kalyan\"\u001b[0m\u001b[1;33m)\u001b[0m\u001b[1;33m\u001b[0m\u001b[1;33m\u001b[0m\u001b[0m\n\u001b[0;32m      3\u001b[0m \u001b[0mprint\u001b[0m\u001b[1;33m(\u001b[0m\u001b[0mtype\u001b[0m\u001b[1;33m(\u001b[0m\u001b[0mtup\u001b[0m\u001b[1;33m)\u001b[0m\u001b[1;33m)\u001b[0m\u001b[1;33m\u001b[0m\u001b[1;33m\u001b[0m\u001b[0m\n\u001b[1;32m----> 4\u001b[1;33m \u001b[0ml\u001b[0m \u001b[1;33m=\u001b[0m \u001b[0mlist\u001b[0m\u001b[1;33m(\u001b[0m\u001b[0mtup\u001b[0m\u001b[1;33m)\u001b[0m\u001b[1;33m\u001b[0m\u001b[1;33m\u001b[0m\u001b[0m\n\u001b[0m\u001b[0;32m      5\u001b[0m \u001b[0mprint\u001b[0m\u001b[1;33m(\u001b[0m\u001b[0mtype\u001b[0m\u001b[1;33m(\u001b[0m\u001b[0mlis\u001b[0m\u001b[1;33m)\u001b[0m\u001b[1;33m)\u001b[0m\u001b[1;33m\u001b[0m\u001b[1;33m\u001b[0m\u001b[0m\n",
      "\u001b[1;31mTypeError\u001b[0m: 'list' object is not callable"
     ]
    }
   ],
   "source": [
    "# get a tuple value's list form\n",
    "tup = (43,32,\"kalyan\")\n",
    "print(type(tup))\n",
    "l = list(tup)\n",
    "print(type(lis))"
   ]
  },
  {
   "cell_type": "code",
   "execution_count": 51,
   "id": "c503b35a",
   "metadata": {},
   "outputs": [],
   "source": [
    "tup = (23, 45,63,\"kalli\",6.54, False)"
   ]
  },
  {
   "cell_type": "code",
   "execution_count": 52,
   "id": "146c8836",
   "metadata": {},
   "outputs": [
    {
     "data": {
      "text/plain": [
       "(23, 45, 63, 'kalli', 6.54, False)"
      ]
     },
     "execution_count": 52,
     "metadata": {},
     "output_type": "execute_result"
    }
   ],
   "source": [
    "tup"
   ]
  },
  {
   "cell_type": "code",
   "execution_count": 54,
   "id": "8e7075f2",
   "metadata": {},
   "outputs": [
    {
     "ename": "TypeError",
     "evalue": "'list' object is not callable",
     "output_type": "error",
     "traceback": [
      "\u001b[1;31m---------------------------------------------------------------------------\u001b[0m",
      "\u001b[1;31mTypeError\u001b[0m                                 Traceback (most recent call last)",
      "\u001b[1;32m<ipython-input-54-2f907404409f>\u001b[0m in \u001b[0;36m<module>\u001b[1;34m\u001b[0m\n\u001b[1;32m----> 1\u001b[1;33m \u001b[0maList\u001b[0m \u001b[1;33m=\u001b[0m \u001b[0mlist\u001b[0m\u001b[1;33m(\u001b[0m\u001b[0mtup\u001b[0m\u001b[1;33m)\u001b[0m\u001b[1;33m\u001b[0m\u001b[1;33m\u001b[0m\u001b[0m\n\u001b[0m",
      "\u001b[1;31mTypeError\u001b[0m: 'list' object is not callable"
     ]
    }
   ],
   "source": [
    "aList = list(tup)"
   ]
  },
  {
   "cell_type": "code",
   "execution_count": 55,
   "id": "6b399c6c",
   "metadata": {},
   "outputs": [],
   "source": [
    "import copy"
   ]
  },
  {
   "cell_type": "code",
   "execution_count": 70,
   "id": "b221f09b",
   "metadata": {},
   "outputs": [
    {
     "name": "stdout",
     "output_type": "stream",
     "text": [
      "spam is : \n",
      " [34, 24, 45, 'kalyan']\n",
      "new_spam is : \n",
      " [34, 24, 45, 'kalyan']\n",
      "new_spam after replacing new element the is : \n",
      " [34, 'tr', 45, 'kalyan']\n"
     ]
    }
   ],
   "source": [
    "spam = [ 34,24,45,\"kalyan\"]\n",
    "print(\"spam is : \\n\",spam)\n",
    "new_spam = copy.copy(spam)\n",
    "print(\"new_spam is : \\n\",new_spam)\n",
    "new_spam[1] = \"tr\"\n",
    "print(\"new_spam after replacing new element the is : \\n\",new_spam)\n"
   ]
  },
  {
   "cell_type": "code",
   "execution_count": 76,
   "id": "ca893623",
   "metadata": {},
   "outputs": [],
   "source": [
    "spam = [[34,24,45],[1,2,3],\"kalyan\"]\n",
    "new_spam = copy.copy(spam)"
   ]
  },
  {
   "cell_type": "code",
   "execution_count": 77,
   "id": "f68f9c91",
   "metadata": {},
   "outputs": [
    {
     "data": {
      "text/plain": [
       "[[34, 24, 45], [1, 2, 3], 'kalyan']"
      ]
     },
     "execution_count": 77,
     "metadata": {},
     "output_type": "execute_result"
    }
   ],
   "source": [
    "spam"
   ]
  },
  {
   "cell_type": "code",
   "execution_count": 78,
   "id": "049e68b6",
   "metadata": {},
   "outputs": [],
   "source": [
    "spam[1][1]=\"tr\""
   ]
  },
  {
   "cell_type": "code",
   "execution_count": 81,
   "id": "ceb6b3f2",
   "metadata": {},
   "outputs": [
    {
     "name": "stdout",
     "output_type": "stream",
     "text": [
      "[[34, 24, 45], [1, 'tr', 3], 'kalyan']\n",
      "[[34, 24, 45], [1, 'tr', 3], 'kalyan']\n"
     ]
    }
   ],
   "source": [
    "# When copy.copy() used, the changes made in original one will be reflected in copy as well\n",
    "print(spam)\n",
    "print(new_spam)"
   ]
  },
  {
   "cell_type": "code",
   "execution_count": 82,
   "id": "0b48d123",
   "metadata": {},
   "outputs": [],
   "source": [
    "spam = [[34,24,45],[1,2,3],\"kalyan\"]\n",
    "new_spam = copy.deepcopy(spam)"
   ]
  },
  {
   "cell_type": "code",
   "execution_count": 83,
   "id": "071b7e71",
   "metadata": {},
   "outputs": [
    {
     "data": {
      "text/plain": [
       "[[34, 24, 45], [1, 2, 3], 'kalyan']"
      ]
     },
     "execution_count": 83,
     "metadata": {},
     "output_type": "execute_result"
    }
   ],
   "source": [
    "spam"
   ]
  },
  {
   "cell_type": "code",
   "execution_count": 84,
   "id": "d118e88d",
   "metadata": {},
   "outputs": [],
   "source": [
    "spam[0][1]=\"abc\""
   ]
  },
  {
   "cell_type": "code",
   "execution_count": 85,
   "id": "4e74b040",
   "metadata": {},
   "outputs": [
    {
     "name": "stdout",
     "output_type": "stream",
     "text": [
      "[[34, 'abc', 45], [1, 2, 3], 'kalyan']\n",
      "[[34, 24, 45], [1, 2, 3], 'kalyan']\n"
     ]
    }
   ],
   "source": [
    "# When copy.deepcopy() used, The deep copy creates independent copy of original object and all its nested objects\n",
    "print(spam)\n",
    "print(new_spam)"
   ]
  },
  {
   "cell_type": "code",
   "execution_count": null,
   "id": "9d3a47c8",
   "metadata": {},
   "outputs": [],
   "source": []
  }
 ],
 "metadata": {
  "kernelspec": {
   "display_name": "Python 3",
   "language": "python",
   "name": "python3"
  },
  "language_info": {
   "codemirror_mode": {
    "name": "ipython",
    "version": 3
   },
   "file_extension": ".py",
   "mimetype": "text/x-python",
   "name": "python",
   "nbconvert_exporter": "python",
   "pygments_lexer": "ipython3",
   "version": "3.8.8"
  }
 },
 "nbformat": 4,
 "nbformat_minor": 5
}
